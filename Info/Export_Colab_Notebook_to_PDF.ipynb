{
  "cells": [
    {
      "cell_type": "markdown",
      "metadata": {
        "id": "V3itHCuf8ny0"
      },
      "source": [
        "## Export a Google Colab notebook to a PDF\n",
        "Use the commands below to generate a PDF of your notebook\n",
        "1. Run the first command and click on the link generated. Sign into Google Drive. Then copy and paste the auth-token generated from the URL back into the text input box into the Colab cell again.    \n",
        "Press `Shift + Enter` to execute the cell and mount your Google Drive folder to Colab.\n",
        "2. Run the other commands and change folder name and notebook name if needed "
      ]
    },
    {
      "cell_type": "code",
      "execution_count": null,
      "metadata": {
        "colab": {
          "base_uri": "https://localhost:8080/"
        },
        "id": "5hhxUdCV4pFk",
        "outputId": "1da98f47-59f1-4470-d8a7-aa4e4f4c24fa"
      },
      "outputs": [
        {
          "name": "stdout",
          "output_type": "stream",
          "text": [
            "Mounted at /content/drive\n"
          ]
        }
      ],
      "source": [
        "from google.colab import drive\n",
        "drive.mount('/content/drive')"
      ]
    },
    {
      "cell_type": "code",
      "execution_count": null,
      "metadata": {
        "colab": {
          "base_uri": "https://localhost:8080/"
        },
        "id": "QShjInC04ugj",
        "outputId": "e3adf6c4-a76b-46d2-e400-fa57ff449780"
      },
      "outputs": [
        {
          "name": "stdout",
          "output_type": "stream",
          "text": [
            "/content/drive/My Drive/Colab Notebooks\n"
          ]
        }
      ],
      "source": [
        "# To find out where your notebook is located: \n",
        "#   1. Press the \"File/Arkiv\" option in the dropdown menu \n",
        "#   2. From that menu, press the \"Locate in Drive/Hitta på Drive\"\n",
        "#   3. The name at the top will indicate where your notebooks are stored\n",
        "#   4. If the top name is NOT \"Colab Notebooks\", change it to the correct one in the command below\n",
        "\n",
        "%cd /content/drive/My Drive/Colab Notebooks"
      ]
    },
    {
      "cell_type": "code",
      "execution_count": null,
      "metadata": {
        "id": "FW6l78Fc44Sf"
      },
      "outputs": [],
      "source": [
        "%%capture\n",
        "!sudo apt-get install texlive-xetex texlive-fonts-recommended texlive-generic-recommended\n",
        "\n",
        "# Change the name of the notebook to convert to your notebook name here\n",
        "!jupyter nbconvert --to pdf Export_Colab_Notebook_to_PDF.ipynb"
      ]
    },
    {
      "cell_type": "markdown",
      "metadata": {
        "id": "m5P6LwaeA89J"
      },
      "source": [
        "#### Finally\n",
        "Go into your your Google Drive folder where your notebook is stored  \n",
        " and download the PDF that has been generated."
      ]
    },
    {
      "cell_type": "code",
      "execution_count": null,
      "metadata": {
        "id": "DdvZO8wT4wXu"
      },
      "outputs": [],
      "source": []
    }
  ],
  "metadata": {
    "accelerator": "GPU",
    "colab": {
      "collapsed_sections": [],
      "name": "Export_Colab_Notebook_to_PDF.ipynb",
      "provenance": []
    },
    "kernelspec": {
      "display_name": "Python 3",
      "language": "python",
      "name": "python3"
    },
    "language_info": {
      "name": "python",
      "version": "3.10.10 (tags/v3.10.10:aad5f6a, Feb  7 2023, 17:20:36) [MSC v.1929 64 bit (AMD64)]"
    },
    "vscode": {
      "interpreter": {
        "hash": "95a52616e384b20efd8593da4659c9ed7f24656db1396f167b459fdda2811804"
      }
    }
  },
  "nbformat": 4,
  "nbformat_minor": 0
}
